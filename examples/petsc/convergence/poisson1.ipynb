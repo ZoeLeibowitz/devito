{
 "cells": [
  {
   "cell_type": "markdown",
   "metadata": {},
   "source": [
    "## Poisson Equation With Dirichlet BCs ##"
   ]
  },
  {
   "cell_type": "markdown",
   "metadata": {},
   "source": [
    "Let $\\phi = \\phi(x,y)$ be a function of two Cartesian coordinates $x$ and $y$ such that:\n",
    "\\begin{equation}\n",
    "\\Delta \\phi = \\phi_{xx} + \\phi_{yy} = 2x(y-1)(y-2x+xy+2)e^{x-y}, \\enspace 0<x<1, \\enspace 0<y<1 \n",
    "\\end{equation}\n",
    "subject to zero Dirichlet boundary conditions.\n",
    "\n",
    "This yields the following analytical solution:\n",
    "\n",
    "\\begin{equation}\n",
    "\\phi(x,y) = e^{x-y}x(1-x)y(1-y)\n",
    "\\end{equation}"
   ]
  },
  {
   "cell_type": "code",
   "execution_count": 1,
   "metadata": {},
   "outputs": [],
   "source": [
    "from devito import *\n",
    "from devito.petsc import PETScSolve, EssentialBC\n",
    "import pandas as pd\n",
    "from devito import configuration\n",
    "import numpy as np\n",
    "configuration['opt'] = 'noop'\n",
    "\n",
    "import os\n",
    "os.environ[\"PETSC_ARCH\"] = \"jan25\"\n",
    "os.environ[\"PETSC_DIR\"] = \"/home/zl561/petsc\""
   ]
  },
  {
   "cell_type": "code",
   "execution_count": 2,
   "metadata": {},
   "outputs": [
    {
     "name": "stdout",
     "output_type": "stream",
     "text": [
      "jan25\n"
     ]
    }
   ],
   "source": [
    "print(os.environ[\"PETSC_ARCH\"])"
   ]
  },
  {
   "cell_type": "markdown",
   "metadata": {},
   "source": []
  },
  {
   "cell_type": "code",
   "execution_count": 3,
   "metadata": {},
   "outputs": [],
   "source": [
    "# analytical1 = pd.read_csv('results/phi_analytical_11.csv', header=None)\n",
    "# numerical1 = pd.read_csv('results/phi_11.csv', header=None)"
   ]
  },
  {
   "cell_type": "code",
   "execution_count": 4,
   "metadata": {},
   "outputs": [],
   "source": [
    "# Subdomains to implement BCs\n",
    "class SubTop(SubDomain):\n",
    "    name = 'subtop'\n",
    "    def define(self, dimensions):\n",
    "        x, y = dimensions\n",
    "        return {x: x, y: ('right', 1)}\n",
    "sub1 = SubTop()\n",
    "\n",
    "class SubBottom(SubDomain):\n",
    "    name = 'subbottom'\n",
    "    def define(self, dimensions):\n",
    "        x, y = dimensions\n",
    "        return {x: x, y: ('left', 1)}\n",
    "sub2 = SubBottom()\n",
    "\n",
    "class SubLeft(SubDomain):\n",
    "    name = 'subleft'\n",
    "    def define(self, dimensions):\n",
    "        x, y = dimensions\n",
    "        return {x: ('left', 1), y: y}\n",
    "sub3 = SubLeft()\n",
    "\n",
    "class SubRight(SubDomain):\n",
    "    name = 'subright'\n",
    "    def define(self, dimensions):\n",
    "        x, y = dimensions\n",
    "        return {x: ('right', 1), y: y}\n",
    "sub4 = SubRight()"
   ]
  },
  {
   "cell_type": "code",
   "execution_count": 5,
   "metadata": {},
   "outputs": [],
   "source": [
    "def analytical(x, y):\n",
    "    return 2.0*x*(y-1.0)*(y - 2.0*x + x*y + 2.0) * np.exp(x-y)\n",
    "\n",
    "\n",
    "Lx = np.float64(1.)\n",
    "Ly = np.float64(1.)\n",
    "\n",
    "n_values = [11]\n",
    "errors = []"
   ]
  },
  {
   "cell_type": "code",
   "execution_count": 6,
   "metadata": {},
   "outputs": [
    {
     "name": "stderr",
     "output_type": "stream",
     "text": [
      "Trying to access deprecated config `openmp`. Using `language` instead\n",
      "Trying to access deprecated config `openmp`. Using `language` instead\n",
      "Trying to access deprecated config `openmp`. Using `language` instead\n",
      "/tmp/devito-jitcache-uid1562842/51bf64ef4960ac114d38261f299a453e42dd15b1.c:8:10: fatal error: petscsnes.h: No such file or directory\n",
      "    8 | #include \"petscsnes.h\"\n",
      "      |          ^~~~~~~~~~~~~\n",
      "compilation terminated.\n",
      "FAILED compiler invocation: gcc -march=native -O3 -g -fPIC -Wall -std=c99 -Wno-unused-result -Wno-unused-variable -Wno-unused-but-set-variable -ffast-math -shared -fopenmp -Wl,-rpath,/home/zl561/petsc/jan25/lib -I/home/zl561/petsc/include -I/home/zl561/petsc/jan25/include /tmp/devito-jitcache-uid1562842/51bf64ef4960ac114d38261f299a453e42dd15b1.c -L/home/zl561/petsc/jan25/lib -lm -lpetsc -o /tmp/devito-jitcache-uid1562842/51bf64ef4960ac114d38261f299a453e42dd15b1.so\n"
     ]
    },
    {
     "ename": "CompileError",
     "evalue": "module compilation failed",
     "output_type": "error",
     "traceback": [
      "\u001b[0;31m---------------------------------------------------------------------------\u001b[0m",
      "\u001b[0;31mCompileError\u001b[0m                              Traceback (most recent call last)",
      "Cell \u001b[0;32mIn[6], line 32\u001b[0m\n\u001b[1;32m     29\u001b[0m \u001b[38;5;28;01mwith\u001b[39;00m switchconfig(openmp\u001b[38;5;241m=\u001b[39m\u001b[38;5;28;01mFalse\u001b[39;00m):\n\u001b[1;32m     30\u001b[0m     op \u001b[38;5;241m=\u001b[39m Operator(petsc, opt\u001b[38;5;241m=\u001b[39m\u001b[38;5;124m'\u001b[39m\u001b[38;5;124mnoop\u001b[39m\u001b[38;5;124m'\u001b[39m)\n\u001b[0;32m---> 32\u001b[0m \u001b[43mop\u001b[49m\u001b[38;5;241;43m.\u001b[39;49m\u001b[43mapply\u001b[49m\u001b[43m(\u001b[49m\u001b[43m)\u001b[49m\n\u001b[1;32m     34\u001b[0m phi_analytical \u001b[38;5;241m=\u001b[39m analytical(X, Y)\n\u001b[1;32m     36\u001b[0m error \u001b[38;5;241m=\u001b[39m np\u001b[38;5;241m.\u001b[39mamax(np\u001b[38;5;241m.\u001b[39mabs(phi\u001b[38;5;241m.\u001b[39mdata[\u001b[38;5;241m1\u001b[39m:\u001b[38;5;241m-\u001b[39m\u001b[38;5;241m1\u001b[39m,\u001b[38;5;241m1\u001b[39m:\u001b[38;5;241m-\u001b[39m\u001b[38;5;241m1\u001b[39m]\u001b[38;5;241m-\u001b[39mphi_analytical[\u001b[38;5;241m1\u001b[39m:\u001b[38;5;241m-\u001b[39m\u001b[38;5;241m1\u001b[39m,\u001b[38;5;241m1\u001b[39m:\u001b[38;5;241m-\u001b[39m\u001b[38;5;241m1\u001b[39m]))\n",
      "File \u001b[0;32m~/devito/devito/operator/operator.py:916\u001b[0m, in \u001b[0;36mOperator.apply\u001b[0;34m(self, **kwargs)\u001b[0m\n\u001b[1;32m    853\u001b[0m \u001b[38;5;250m\u001b[39m\u001b[38;5;124;03m\"\"\"\u001b[39;00m\n\u001b[1;32m    854\u001b[0m \u001b[38;5;124;03mExecute the Operator.\u001b[39;00m\n\u001b[1;32m    855\u001b[0m \n\u001b[0;32m   (...)\u001b[0m\n\u001b[1;32m    912\u001b[0m \u001b[38;5;124;03m>>> summary = op.apply(time_M=10)\u001b[39;00m\n\u001b[1;32m    913\u001b[0m \u001b[38;5;124;03m\"\"\"\u001b[39;00m\n\u001b[1;32m    914\u001b[0m \u001b[38;5;66;03m# Compile the operator before building the arguments list\u001b[39;00m\n\u001b[1;32m    915\u001b[0m \u001b[38;5;66;03m# to avoid out of memory with greedy compilers\u001b[39;00m\n\u001b[0;32m--> 916\u001b[0m cfunction \u001b[38;5;241m=\u001b[39m \u001b[38;5;28;43mself\u001b[39;49m\u001b[38;5;241;43m.\u001b[39;49m\u001b[43mcfunction\u001b[49m\n\u001b[1;32m    918\u001b[0m \u001b[38;5;66;03m# Build the arguments list to invoke the kernel function\u001b[39;00m\n\u001b[1;32m    919\u001b[0m \u001b[38;5;28;01mwith\u001b[39;00m \u001b[38;5;28mself\u001b[39m\u001b[38;5;241m.\u001b[39m_profiler\u001b[38;5;241m.\u001b[39mtimer_on(\u001b[38;5;124m'\u001b[39m\u001b[38;5;124marguments\u001b[39m\u001b[38;5;124m'\u001b[39m):\n",
      "File \u001b[0;32m~/devito/devito/operator/operator.py:803\u001b[0m, in \u001b[0;36mOperator.cfunction\u001b[0;34m(self)\u001b[0m\n\u001b[1;32m    801\u001b[0m \u001b[38;5;250m\u001b[39m\u001b[38;5;124;03m\"\"\"The JIT-compiled C function as a ctypes.FuncPtr object.\"\"\"\u001b[39;00m\n\u001b[1;32m    802\u001b[0m \u001b[38;5;28;01mif\u001b[39;00m \u001b[38;5;28mself\u001b[39m\u001b[38;5;241m.\u001b[39m_lib \u001b[38;5;129;01mis\u001b[39;00m \u001b[38;5;28;01mNone\u001b[39;00m:\n\u001b[0;32m--> 803\u001b[0m     \u001b[38;5;28;43mself\u001b[39;49m\u001b[38;5;241;43m.\u001b[39;49m\u001b[43m_jit_compile\u001b[49m\u001b[43m(\u001b[49m\u001b[43m)\u001b[49m\n\u001b[1;32m    804\u001b[0m     \u001b[38;5;28mself\u001b[39m\u001b[38;5;241m.\u001b[39m_lib \u001b[38;5;241m=\u001b[39m \u001b[38;5;28mself\u001b[39m\u001b[38;5;241m.\u001b[39m_compiler\u001b[38;5;241m.\u001b[39mload(\u001b[38;5;28mself\u001b[39m\u001b[38;5;241m.\u001b[39m_soname)\n\u001b[1;32m    805\u001b[0m     \u001b[38;5;28mself\u001b[39m\u001b[38;5;241m.\u001b[39m_lib\u001b[38;5;241m.\u001b[39mname \u001b[38;5;241m=\u001b[39m \u001b[38;5;28mself\u001b[39m\u001b[38;5;241m.\u001b[39m_soname\n",
      "File \u001b[0;32m~/devito/devito/operator/operator.py:789\u001b[0m, in \u001b[0;36mOperator._jit_compile\u001b[0;34m(self)\u001b[0m\n\u001b[1;32m    787\u001b[0m \u001b[38;5;28;01mif\u001b[39;00m \u001b[38;5;28mself\u001b[39m\u001b[38;5;241m.\u001b[39m_lib \u001b[38;5;129;01mis\u001b[39;00m \u001b[38;5;28;01mNone\u001b[39;00m:\n\u001b[1;32m    788\u001b[0m     \u001b[38;5;28;01mwith\u001b[39;00m \u001b[38;5;28mself\u001b[39m\u001b[38;5;241m.\u001b[39m_profiler\u001b[38;5;241m.\u001b[39mtimer_on(\u001b[38;5;124m'\u001b[39m\u001b[38;5;124mjit-compile\u001b[39m\u001b[38;5;124m'\u001b[39m):\n\u001b[0;32m--> 789\u001b[0m         recompiled, src_file \u001b[38;5;241m=\u001b[39m \u001b[38;5;28;43mself\u001b[39;49m\u001b[38;5;241;43m.\u001b[39;49m\u001b[43m_compiler\u001b[49m\u001b[38;5;241;43m.\u001b[39;49m\u001b[43mjit_compile\u001b[49m\u001b[43m(\u001b[49m\u001b[38;5;28;43mself\u001b[39;49m\u001b[38;5;241;43m.\u001b[39;49m\u001b[43m_soname\u001b[49m\u001b[43m,\u001b[49m\u001b[43m \u001b[49m\u001b[38;5;28;43mstr\u001b[39;49m\u001b[43m(\u001b[49m\u001b[38;5;28;43mself\u001b[39;49m\u001b[43m)\u001b[49m\u001b[43m)\u001b[49m\n\u001b[1;32m    791\u001b[0m     elapsed \u001b[38;5;241m=\u001b[39m \u001b[38;5;28mself\u001b[39m\u001b[38;5;241m.\u001b[39m_profiler\u001b[38;5;241m.\u001b[39mpy_timers[\u001b[38;5;124m'\u001b[39m\u001b[38;5;124mjit-compile\u001b[39m\u001b[38;5;124m'\u001b[39m]\n\u001b[1;32m    792\u001b[0m     \u001b[38;5;28;01mif\u001b[39;00m recompiled:\n",
      "File \u001b[0;32m~/devito/devito/arch/compiler.py:377\u001b[0m, in \u001b[0;36mCompiler.jit_compile\u001b[0;34m(self, soname, code)\u001b[0m\n\u001b[1;32m    375\u001b[0m \u001b[38;5;28;01mwith\u001b[39;00m warnings\u001b[38;5;241m.\u001b[39mcatch_warnings():\n\u001b[1;32m    376\u001b[0m     warnings\u001b[38;5;241m.\u001b[39msimplefilter(\u001b[38;5;124m'\u001b[39m\u001b[38;5;124mignore\u001b[39m\u001b[38;5;124m'\u001b[39m)\n\u001b[0;32m--> 377\u001b[0m     _, _, _, recompiled \u001b[38;5;241m=\u001b[39m \u001b[43mcompile_from_string\u001b[49m\u001b[43m(\u001b[49m\u001b[38;5;28;43mself\u001b[39;49m\u001b[43m,\u001b[49m\u001b[43m \u001b[49m\u001b[43mtarget\u001b[49m\u001b[43m,\u001b[49m\u001b[43m \u001b[49m\u001b[43mcode\u001b[49m\u001b[43m,\u001b[49m\u001b[43m \u001b[49m\u001b[43msrc_file\u001b[49m\u001b[43m,\u001b[49m\n\u001b[1;32m    378\u001b[0m \u001b[43m                                              \u001b[49m\u001b[43mcache_dir\u001b[49m\u001b[38;5;241;43m=\u001b[39;49m\u001b[43mcache_dir\u001b[49m\u001b[43m,\u001b[49m\u001b[43m \u001b[49m\u001b[43mdebug\u001b[49m\u001b[38;5;241;43m=\u001b[39;49m\u001b[43mdebug\u001b[49m\u001b[43m,\u001b[49m\n\u001b[1;32m    379\u001b[0m \u001b[43m                                              \u001b[49m\u001b[43msleep_delay\u001b[49m\u001b[38;5;241;43m=\u001b[39;49m\u001b[43msleep_delay\u001b[49m\u001b[43m)\u001b[49m\n\u001b[1;32m    381\u001b[0m \u001b[38;5;28;01mreturn\u001b[39;00m recompiled, src_file\n",
      "File \u001b[0;32m~/anaconda3/envs/devito/lib/python3.12/site-packages/codepy/jit.py:439\u001b[0m, in \u001b[0;36mcompile_from_string\u001b[0;34m(toolchain, name, source_string, source_name, cache_dir, debug, wait_on_error, debug_recompile, object, source_is_binary, sleep_delay)\u001b[0m\n\u001b[1;32m    437\u001b[0m     toolchain\u001b[38;5;241m.\u001b[39mbuild_object(ext_file, source_paths, debug\u001b[38;5;241m=\u001b[39mdebug)\n\u001b[1;32m    438\u001b[0m \u001b[38;5;28;01melse\u001b[39;00m:\n\u001b[0;32m--> 439\u001b[0m     \u001b[43mtoolchain\u001b[49m\u001b[38;5;241;43m.\u001b[39;49m\u001b[43mbuild_extension\u001b[49m\u001b[43m(\u001b[49m\u001b[43mext_file\u001b[49m\u001b[43m,\u001b[49m\u001b[43m \u001b[49m\u001b[43msource_paths\u001b[49m\u001b[43m,\u001b[49m\u001b[43m \u001b[49m\u001b[43mdebug\u001b[49m\u001b[38;5;241;43m=\u001b[39;49m\u001b[43mdebug\u001b[49m\u001b[43m)\u001b[49m\n\u001b[1;32m    441\u001b[0m \u001b[38;5;28;01mif\u001b[39;00m info_path \u001b[38;5;129;01mis\u001b[39;00m \u001b[38;5;129;01mnot\u001b[39;00m \u001b[38;5;28;01mNone\u001b[39;00m:\n\u001b[1;32m    442\u001b[0m     \u001b[38;5;28;01mimport\u001b[39;00m \u001b[38;5;21;01mpickle\u001b[39;00m\n",
      "File \u001b[0;32m~/anaconda3/envs/devito/lib/python3.12/site-packages/codepy/toolchain.py:211\u001b[0m, in \u001b[0;36mGCCLikeToolchain.build_extension\u001b[0;34m(self, ext_file, source_files, debug)\u001b[0m\n\u001b[1;32m    208\u001b[0m \u001b[38;5;28;01mimport\u001b[39;00m \u001b[38;5;21;01msys\u001b[39;00m\n\u001b[1;32m    209\u001b[0m \u001b[38;5;28mprint\u001b[39m(\u001b[38;5;124m\"\u001b[39m\u001b[38;5;124mFAILED compiler invocation: \u001b[39m\u001b[38;5;132;01m{}\u001b[39;00m\u001b[38;5;124m\"\u001b[39m\u001b[38;5;241m.\u001b[39mformat(\u001b[38;5;124m\"\u001b[39m\u001b[38;5;124m \u001b[39m\u001b[38;5;124m\"\u001b[39m\u001b[38;5;241m.\u001b[39mjoin(cc_cmdline)),\n\u001b[1;32m    210\u001b[0m       file\u001b[38;5;241m=\u001b[39msys\u001b[38;5;241m.\u001b[39mstderr)\n\u001b[0;32m--> 211\u001b[0m \u001b[38;5;28;01mraise\u001b[39;00m CompileError(\u001b[38;5;124m\"\u001b[39m\u001b[38;5;124mmodule compilation failed\u001b[39m\u001b[38;5;124m\"\u001b[39m)\n",
      "\u001b[0;31mCompileError\u001b[0m: module compilation failed"
     ]
    }
   ],
   "source": [
    "# for n in n_values:\n",
    "n =11\n",
    "grid = Grid(shape=(n, n), extent=(Lx, Ly), subdomains=(sub1,sub2,sub3,sub4,), dtype=np.float64)\n",
    "\n",
    "phi = Function(name='phi', grid=grid, space_order=2, dtype=np.float64)\n",
    "\n",
    "rhs = Function(name='rhs', grid=grid, space_order=2, dtype=np.float64)\n",
    "\n",
    "eqn = Eq(rhs, phi.laplace, subdomain=grid.interior)\n",
    "\n",
    "# Initial guess - satisfies BCs\n",
    "phi.data[:] = np.float64(0.)\n",
    "\n",
    "tmpx = np.linspace(0, Lx, n).astype(np.float64)\n",
    "tmpy = np.linspace(0, Ly, n).astype(np.float64)\n",
    "Y, X = np.meshgrid(tmpx, tmpy)\n",
    "rhs.data[:] = np.float64(2.0*X*(Y-1.0)*(Y - 2.0*X + X*Y + 2.0)) * np.float64(np.exp(X-Y))\n",
    "\n",
    "# # Create boundary condition expressions using subdomains\n",
    "x, y = grid.dimensions\n",
    "\n",
    "bcs = [EssentialBC(phi, 0., subdomain=sub1)]\n",
    "bcs += [EssentialBC(phi, 0., subdomain=sub2)]\n",
    "bcs += [EssentialBC(phi, 0., subdomain=sub3)]\n",
    "bcs += [EssentialBC(phi, 0., subdomain=sub4)]\n",
    "\n",
    "petsc = PETScSolve([eqn]+bcs, target=phi)\n",
    "\n",
    "with switchconfig(openmp=False):\n",
    "    op = Operator(petsc, opt='noop')\n",
    "\n",
    "op.apply()\n",
    "\n",
    "phi_analytical = analytical(X, Y)\n",
    "\n",
    "error = np.amax(np.abs(phi.data[1:-1,1:-1]-phi_analytical[1:-1,1:-1]))\n",
    "\n",
    "errors.append(error)\n",
    "\n",
    "    # pd.DataFrame(phi.data[:]).to_csv(f\"results/phi_{n}.csv\", header=None, index=None)"
   ]
  },
  {
   "cell_type": "code",
   "execution_count": null,
   "metadata": {},
   "outputs": [],
   "source": []
  }
 ],
 "metadata": {
  "kernelspec": {
   "display_name": "devito",
   "language": "python",
   "name": "python3"
  },
  "language_info": {
   "codemirror_mode": {
    "name": "ipython",
    "version": 3
   },
   "file_extension": ".py",
   "mimetype": "text/x-python",
   "name": "python",
   "nbconvert_exporter": "python",
   "pygments_lexer": "ipython3",
   "version": "3.12.7"
  }
 },
 "nbformat": 4,
 "nbformat_minor": 2
}
