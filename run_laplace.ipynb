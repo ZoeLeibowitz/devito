{
 "cells": [
  {
   "cell_type": "code",
   "execution_count": 84,
   "metadata": {},
   "outputs": [],
   "source": [
    "import numpy as np\n",
    "import pandas as pd\n",
    "import matplotlib.pyplot as plt"
   ]
  },
  {
   "cell_type": "code",
   "execution_count": 85,
   "metadata": {},
   "outputs": [],
   "source": [
    "analytical1 = pd.read_csv('run_laplace_analytical_results/1.csv', header=None)\n",
    "analytical2 = pd.read_csv('run_laplace_analytical_results/2.csv', header=None)\n",
    "analytical3 = pd.read_csv('run_laplace_analytical_results/3.csv', header=None)\n",
    "analytical4 = pd.read_csv('run_laplace_analytical_results/4.csv', header=None)\n",
    "analytical5 = pd.read_csv('run_laplace_analytical_results/5.csv', header=None)\n",
    "\n",
    "petsc_dev1 = pd.read_csv('run_laplace_results/1.csv', header=None)\n",
    "petsc_dev2 = pd.read_csv('run_laplace_results/2.csv', header=None)\n",
    "petsc_dev3 = pd.read_csv('run_laplace_results/3.csv', header=None)\n",
    "petsc_dev4 = pd.read_csv('run_laplace_results/4.csv', header=None)\n",
    "petsc_dev5 = pd.read_csv('run_laplace_results/5.csv', header=None)"
   ]
  },
  {
   "cell_type": "code",
   "execution_count": 86,
   "metadata": {},
   "outputs": [
    {
     "data": {
      "text/html": [
       "<div>\n",
       "<style scoped>\n",
       "    .dataframe tbody tr th:only-of-type {\n",
       "        vertical-align: middle;\n",
       "    }\n",
       "\n",
       "    .dataframe tbody tr th {\n",
       "        vertical-align: top;\n",
       "    }\n",
       "\n",
       "    .dataframe thead th {\n",
       "        text-align: right;\n",
       "    }\n",
       "</style>\n",
       "<table border=\"1\" class=\"dataframe\">\n",
       "  <thead>\n",
       "    <tr style=\"text-align: right;\">\n",
       "      <th></th>\n",
       "      <th>0</th>\n",
       "    </tr>\n",
       "  </thead>\n",
       "  <tbody>\n",
       "    <tr>\n",
       "      <th>0</th>\n",
       "      <td>0.000000e+00</td>\n",
       "    </tr>\n",
       "    <tr>\n",
       "      <th>1</th>\n",
       "      <td>0.000000e+00</td>\n",
       "    </tr>\n",
       "    <tr>\n",
       "      <th>2</th>\n",
       "      <td>0.000000e+00</td>\n",
       "    </tr>\n",
       "    <tr>\n",
       "      <th>3</th>\n",
       "      <td>0.000000e+00</td>\n",
       "    </tr>\n",
       "    <tr>\n",
       "      <th>4</th>\n",
       "      <td>0.000000e+00</td>\n",
       "    </tr>\n",
       "    <tr>\n",
       "      <th>...</th>\n",
       "      <td>...</td>\n",
       "    </tr>\n",
       "    <tr>\n",
       "      <th>76</th>\n",
       "      <td>2.440330e-17</td>\n",
       "    </tr>\n",
       "    <tr>\n",
       "      <th>77</th>\n",
       "      <td>3.702880e-17</td>\n",
       "    </tr>\n",
       "    <tr>\n",
       "      <th>78</th>\n",
       "      <td>5.543830e-17</td>\n",
       "    </tr>\n",
       "    <tr>\n",
       "      <th>79</th>\n",
       "      <td>8.250740e-17</td>\n",
       "    </tr>\n",
       "    <tr>\n",
       "      <th>80</th>\n",
       "      <td>1.224650e-16</td>\n",
       "    </tr>\n",
       "  </tbody>\n",
       "</table>\n",
       "<p>81 rows × 1 columns</p>\n",
       "</div>"
      ],
      "text/plain": [
       "               0\n",
       "0   0.000000e+00\n",
       "1   0.000000e+00\n",
       "2   0.000000e+00\n",
       "3   0.000000e+00\n",
       "4   0.000000e+00\n",
       "..           ...\n",
       "76  2.440330e-17\n",
       "77  3.702880e-17\n",
       "78  5.543830e-17\n",
       "79  8.250740e-17\n",
       "80  1.224650e-16\n",
       "\n",
       "[81 rows x 1 columns]"
      ]
     },
     "execution_count": 86,
     "metadata": {},
     "output_type": "execute_result"
    }
   ],
   "source": [
    "analytical1"
   ]
  },
  {
   "cell_type": "code",
   "execution_count": 87,
   "metadata": {},
   "outputs": [],
   "source": [
    "analytical_vals1 = analytical1.iloc[:, 0].values\n",
    "analytical_vals2 = analytical2.iloc[:, 0].values\n",
    "analytical_vals3 = analytical3.iloc[:, 0].values\n",
    "analytical_vals4 = analytical4.iloc[:, 0].values\n",
    "analytical_vals5 = analytical5.iloc[:, 0].values\n",
    "\n",
    "\n",
    "petsc_dev_vals1 = petsc_dev1.iloc[:, 0].values\n",
    "petsc_dev_vals2 = petsc_dev2.iloc[:, 0].values\n",
    "petsc_dev_vals3 = petsc_dev3.iloc[:, 0].values\n",
    "petsc_dev_vals4 = petsc_dev4.iloc[:, 0].values\n",
    "petsc_dev_vals5 = petsc_dev5.iloc[:, 0].values"
   ]
  },
  {
   "cell_type": "code",
   "execution_count": 88,
   "metadata": {},
   "outputs": [
    {
     "data": {
      "text/plain": [
       "(81,)"
      ]
     },
     "execution_count": 88,
     "metadata": {},
     "output_type": "execute_result"
    }
   ],
   "source": [
    "analytical_vals1.shape"
   ]
  },
  {
   "cell_type": "code",
   "execution_count": 89,
   "metadata": {},
   "outputs": [],
   "source": [
    "reshaped1 = int((np.sqrt(analytical_vals1.shape[0])))\n",
    "reshaped2 = int((np.sqrt(analytical_vals2.shape[0])))\n",
    "reshaped3 = int((np.sqrt(analytical_vals3.shape[0])))\n",
    "reshaped4 = int((np.sqrt(analytical_vals4.shape[0])))\n",
    "reshaped5 = int((np.sqrt(analytical_vals5.shape[0])))\n",
    "\n",
    "analytical_vals1 = analytical_vals1.reshape(reshaped1, reshaped1)\n",
    "analytical_vals2 = analytical_vals2.reshape(reshaped2, reshaped2)\n",
    "analytical_vals3 = analytical_vals3.reshape(reshaped3, reshaped3)\n",
    "analytical_vals4 = analytical_vals4.reshape(reshaped4, reshaped4)\n",
    "analytical_vals5 = analytical_vals5.reshape(reshaped5, reshaped5)\n",
    "\n",
    "petsc_dev_vals1 = petsc_dev_vals1.reshape(reshaped1, reshaped1)\n",
    "petsc_dev_vals2 = petsc_dev_vals2.reshape(reshaped2, reshaped2)\n",
    "petsc_dev_vals3 = petsc_dev_vals3.reshape(reshaped3, reshaped3)\n",
    "petsc_dev_vals4 = petsc_dev_vals4.reshape(reshaped4, reshaped4)\n",
    "petsc_dev_vals5 = petsc_dev_vals5.reshape(reshaped5, reshaped5)\n"
   ]
  },
  {
   "cell_type": "code",
   "execution_count": 97,
   "metadata": {},
   "outputs": [
    {
     "data": {
      "image/png": "[encoded data removed]",
      "text/plain": [
       "<Figure size 432x288 with 2 Axes>"
      ]
     },
     "metadata": {
      "needs_background": "light"
     },
     "output_type": "display_data"
    }
   ],
   "source": [
    "plt.imshow(petsc_dev_vals5)\n",
    "plt.colorbar();"
   ]
  },
  {
   "cell_type": "code",
   "execution_count": 91,
   "metadata": {},
   "outputs": [
    {
     "data": {
      "text/plain": [
       "array([[0.00000e+00, 0.00000e+00, 0.00000e+00, 0.00000e+00, 0.00000e+00,\n",
       "        0.00000e+00, 0.00000e+00, 0.00000e+00, 0.00000e+00, 0.00000e+00,\n",
       "        0.00000e+00, 0.00000e+00, 0.00000e+00, 0.00000e+00, 0.00000e+00,\n",
       "        0.00000e+00, 0.00000e+00],\n",
       "       [0.00000e+00, 3.33824e-03, 6.80560e-03, 1.05362e-02, 1.46743e-02,\n",
       "        1.93799e-02, 2.48351e-02, 3.12509e-02, 3.88753e-02, 4.80034e-02,\n",
       "        5.89881e-02, 7.22542e-02, 8.83150e-02, 1.07792e-01, 1.31437e-01,\n",
       "        1.60166e-01, 1.95090e-01],\n",
       "       [0.00000e+00, 6.54820e-03, 1.33497e-02, 2.06675e-02, 2.87846e-02,\n",
       "        3.80151e-02, 4.87158e-02, 6.13008e-02, 7.62567e-02, 9.41620e-02,\n",
       "        1.15709e-01, 1.41732e-01, 1.73236e-01, 2.11441e-01, 2.57823e-01,\n",
       "        3.14178e-01, 3.82683e-01],\n",
       "       [0.00000e+00, 9.50651e-03, 1.93807e-02, 3.00045e-02, 4.17888e-02,\n",
       "        5.51893e-02, 7.07244e-02, 8.89950e-02, 1.10708e-01, 1.36702e-01,\n",
       "        1.67984e-01, 2.05763e-01, 2.51500e-01, 3.06964e-01, 3.74301e-01,\n",
       "        4.56115e-01, 5.55570e-01],\n",
       "       [0.00000e+00, 1.20995e-02, 2.46670e-02, 3.81885e-02, 5.31870e-02,\n",
       "        7.02427e-02, 9.00151e-02, 1.13269e-01, 1.40904e-01, 1.73989e-01,\n",
       "        2.13803e-01, 2.61886e-01, 3.20099e-01, 3.90691e-01, 4.76395e-01,\n",
       "        5.80524e-01, 7.07107e-01],\n",
       "       [0.00000e+00, 1.42275e-02, 2.90053e-02, 4.49049e-02, 6.25413e-02,\n",
       "        8.25967e-02, 1.05847e-01, 1.33190e-01, 1.65686e-01, 2.04589e-01,\n",
       "        2.51405e-01, 3.07946e-01, 3.76396e-01, 4.59404e-01, 5.60181e-01,\n",
       "        6.82625e-01, 8.31470e-01],\n",
       "       [0.00000e+00, 1.58088e-02, 3.22289e-02, 4.98957e-02, 6.94922e-02,\n",
       "        9.17765e-02, 1.17610e-01, 1.47993e-01, 1.84100e-01, 2.27327e-01,\n",
       "        2.79347e-01, 3.42171e-01, 4.18229e-01, 5.10463e-01, 6.22440e-01,\n",
       "        7.58492e-01, 9.23880e-01],\n",
       "       [0.00000e+00, 1.67825e-02, 3.42141e-02, 5.29690e-02, 7.37725e-02,\n",
       "        9.74294e-02, 1.24855e-01, 1.57109e-01, 1.95440e-01, 2.41329e-01,\n",
       "        2.96553e-01, 3.63247e-01, 4.43989e-01, 5.41905e-01, 6.60779e-01,\n",
       "        8.05211e-01, 9.80785e-01],\n",
       "       [0.00000e+00, 1.71113e-02, 3.48844e-02, 5.40067e-02, 7.52178e-02,\n",
       "        9.93382e-02, 1.27301e-01, 1.60187e-01, 1.99268e-01, 2.46057e-01,\n",
       "        3.02363e-01, 3.70363e-01, 4.52688e-01, 5.52521e-01, 6.73724e-01,\n",
       "        8.20986e-01, 1.00000e+00],\n",
       "       [0.00000e+00, 1.67825e-02, 3.42141e-02, 5.29690e-02, 7.37725e-02,\n",
       "        9.74294e-02, 1.24855e-01, 1.57109e-01, 1.95440e-01, 2.41329e-01,\n",
       "        2.96553e-01, 3.63247e-01, 4.43989e-01, 5.41905e-01, 6.60779e-01,\n",
       "        8.05211e-01, 9.80785e-01],\n",
       "       [0.00000e+00, 1.58088e-02, 3.22289e-02, 4.98957e-02, 6.94922e-02,\n",
       "        9.17765e-02, 1.17610e-01, 1.47993e-01, 1.84100e-01, 2.27327e-01,\n",
       "        2.79347e-01, 3.42171e-01, 4.18229e-01, 5.10463e-01, 6.22440e-01,\n",
       "        7.58492e-01, 9.23880e-01],\n",
       "       [0.00000e+00, 1.42275e-02, 2.90053e-02, 4.49049e-02, 6.25413e-02,\n",
       "        8.25967e-02, 1.05847e-01, 1.33190e-01, 1.65686e-01, 2.04589e-01,\n",
       "        2.51405e-01, 3.07946e-01, 3.76396e-01, 4.59404e-01, 5.60181e-01,\n",
       "        6.82625e-01, 8.31470e-01],\n",
       "       [0.00000e+00, 1.20995e-02, 2.46670e-02, 3.81885e-02, 5.31870e-02,\n",
       "        7.02427e-02, 9.00151e-02, 1.13269e-01, 1.40904e-01, 1.73989e-01,\n",
       "        2.13803e-01, 2.61886e-01, 3.20099e-01, 3.90691e-01, 4.76395e-01,\n",
       "        5.80524e-01, 7.07107e-01],\n",
       "       [0.00000e+00, 9.50651e-03, 1.93807e-02, 3.00045e-02, 4.17888e-02,\n",
       "        5.51893e-02, 7.07244e-02, 8.89950e-02, 1.10708e-01, 1.36702e-01,\n",
       "        1.67984e-01, 2.05763e-01, 2.51500e-01, 3.06964e-01, 3.74301e-01,\n",
       "        4.56115e-01, 5.55570e-01],\n",
       "       [0.00000e+00, 6.54820e-03, 1.33497e-02, 2.06675e-02, 2.87846e-02,\n",
       "        3.80151e-02, 4.87158e-02, 6.13008e-02, 7.62567e-02, 9.41620e-02,\n",
       "        1.15709e-01, 1.41732e-01, 1.73236e-01, 2.11441e-01, 2.57823e-01,\n",
       "        3.14178e-01, 3.82683e-01],\n",
       "       [0.00000e+00, 3.33824e-03, 6.80560e-03, 1.05362e-02, 1.46743e-02,\n",
       "        1.93799e-02, 2.48351e-02, 3.12509e-02, 3.88753e-02, 4.80034e-02,\n",
       "        5.89881e-02, 7.22542e-02, 8.83150e-02, 1.07792e-01, 1.31437e-01,\n",
       "        1.60166e-01, 1.95090e-01],\n",
       "       [0.00000e+00, 2.09553e-18, 4.27210e-18, 6.61391e-18, 9.21153e-18,\n",
       "        1.21654e-17, 1.55898e-17, 1.96172e-17, 2.44033e-17, 3.01333e-17,\n",
       "        3.70288e-17, 4.53564e-17, 5.54383e-17, 6.76643e-17, 8.25074e-17,\n",
       "        1.00542e-16, 1.22465e-16]])"
      ]
     },
     "execution_count": 91,
     "metadata": {},
     "output_type": "execute_result"
    }
   ],
   "source": [
    "analytical_vals5"
   ]
  },
  {
   "cell_type": "code",
   "execution_count": 92,
   "metadata": {},
   "outputs": [],
   "source": [
    "error_petdev1 = np.abs(analytical_vals1.ravel() - petsc_dev_vals1.ravel()).sum()/float((petsc_dev_vals1.shape[0]**2))\n",
    "error_petdev2 = np.abs(analytical_vals2.ravel() - petsc_dev_vals2.ravel()).sum()/float((petsc_dev_vals2.shape[0]**2))\n",
    "error_petdev3 = np.abs(analytical_vals3.ravel() - petsc_dev_vals3.ravel()).sum()/float((petsc_dev_vals3.shape[0]**2))\n",
    "error_petdev4 = np.abs(analytical_vals4.ravel() - petsc_dev_vals4.ravel()).sum()/float((petsc_dev_vals4.shape[0]**2))\n",
    "error_petdev5 = np.abs(analytical_vals5.ravel() - petsc_dev_vals5.ravel()).sum()/float((petsc_dev_vals5.shape[0]**2))"
   ]
  },
  {
   "cell_type": "code",
   "execution_count": 93,
   "metadata": {},
   "outputs": [],
   "source": [
    "dx_lst = [0.125, 0.1, 1./12, 1./14, 1./16]\n",
    "errors_petdev = [error_petdev1, error_petdev2, error_petdev3, error_petdev4, error_petdev5]"
   ]
  },
  {
   "cell_type": "code",
   "execution_count": 94,
   "metadata": {},
   "outputs": [
    {
     "data": {
      "text/plain": [
       "[<matplotlib.lines.Line2D at 0x7f6ca7bcec70>]"
      ]
     },
     "execution_count": 94,
     "metadata": {},
     "output_type": "execute_result"
    },
    {
     "data": {
      "image/png": "[encoded data removed]",
      "text/plain": [
       "<Figure size 432x288 with 1 Axes>"
      ]
     },
     "metadata": {
      "needs_background": "light"
     },
     "output_type": "display_data"
    }
   ],
   "source": [
    "plt.loglog(dx_lst, errors_petdev)"
   ]
  },
  {
   "cell_type": "code",
   "execution_count": 95,
   "metadata": {},
   "outputs": [
    {
     "data": {
      "text/plain": [
       "-0.18332854945289057"
      ]
     },
     "execution_count": 95,
     "metadata": {},
     "output_type": "execute_result"
    }
   ],
   "source": [
    "slope, _ = np.polyfit(np.log(dx_lst), np.log(errors_petdev), 1)\n",
    "slope"
   ]
  },
  {
   "cell_type": "code",
   "execution_count": null,
   "metadata": {},
   "outputs": [],
   "source": []
  }
 ],
 "metadata": {
  "kernelspec": {
   "display_name": "base",
   "language": "python",
   "name": "python3"
  },
  "language_info": {
   "codemirror_mode": {
    "name": "ipython",
    "version": 3
   },
   "file_extension": ".py",
   "mimetype": "text/x-python",
   "name": "python",
   "nbconvert_exporter": "python",
   "pygments_lexer": "ipython3",
   "version": "3.8.3"
  },
  "orig_nbformat": 4,
  "vscode": {
   "interpreter": {
    "hash": "c4cb7ce057025a848a0a5795d728a08bf216c522a30fffe8de95efbeea5bd88a"
   }
  }
 },
 "nbformat": 4,
 "nbformat_minor": 2
}
